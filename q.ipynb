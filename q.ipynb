{
 "cells": [
  {
   "cell_type": "code",
   "execution_count": 10,
   "id": "1b871203",
   "metadata": {},
   "outputs": [
    {
     "name": "stdout",
     "output_type": "stream",
     "text": [
      "please enter a sentence : jjj\n",
      "error 1 first word not capitalize\n",
      "error 2 the sentence didnt end with punctuation mark \n",
      "Jjj!\n"
     ]
    }
   ],
   "source": [
    "import string\n",
    "flag1=False\n",
    "flag2=False\n",
    "a=input(\"please enter a sentence : \")\n",
    "b=a.split()\n",
    "if b[0][0] in string.ascii_uppercase:\n",
    "    #print(\"True\")\n",
    "    pass\n",
    "else:\n",
    "    print(\"error 1 first word not capitalize\")\n",
    "    flag1=True\n",
    "    \n",
    "\n",
    "p=[\"!\" , \"?\" , \".\" ]\n",
    "if a[-1] in p :\n",
    "    #print(\"true\")\n",
    "    pass\n",
    "else:\n",
    "    print('error 2 the sentence didnt end with punctuation mark ')\n",
    "    flag2=True\n",
    "\n",
    "if flag2 :\n",
    "    a= a + \"!\" \n",
    "if flag1 :\n",
    "    a=a.capitalize()\n",
    "    \n",
    "    \n",
    "    \n",
    "print(a)\n",
    "\n",
    "    \n"
   ]
  },
  {
   "cell_type": "code",
   "execution_count": 9,
   "id": "e1ca0c98",
   "metadata": {},
   "outputs": [
    {
     "name": "stdout",
     "output_type": "stream",
     "text": [
      "k\n"
     ]
    }
   ],
   "source": [
    "a= [\"hi\" , \"ko\"]\n",
    "print(a[1][0])\n"
   ]
  }
 ],
 "metadata": {
  "kernelspec": {
   "display_name": "Python 3 (ipykernel)",
   "language": "python",
   "name": "python3"
  },
  "language_info": {
   "codemirror_mode": {
    "name": "ipython",
    "version": 3
   },
   "file_extension": ".py",
   "mimetype": "text/x-python",
   "name": "python",
   "nbconvert_exporter": "python",
   "pygments_lexer": "ipython3",
   "version": "3.11.7"
  }
 },
 "nbformat": 4,
 "nbformat_minor": 5
}
